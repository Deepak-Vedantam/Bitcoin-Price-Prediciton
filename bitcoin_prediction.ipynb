{
  "nbformat": 4,
  "nbformat_minor": 0,
  "metadata": {
    "colab": {
      "name": "bitcoin prediction.ipynb",
      "provenance": [],
      "collapsed_sections": []
    },
    "kernelspec": {
      "name": "python3",
      "display_name": "Python 3"
    },
    "accelerator": "GPU"
  },
  "cells": [
    {
      "cell_type": "markdown",
      "metadata": {
        "id": "IH4GHMR5ze6m"
      },
      "source": [
        "#Import libraries"
      ]
    },
    {
      "cell_type": "code",
      "metadata": {
        "id": "1RPHv1niIcmW"
      },
      "source": [
        "import numpy as np\n",
        "import pandas as pd\n",
        "import keras\n",
        "from keras.models import Sequential\n",
        "from keras.layers import Dense,LSTM\n",
        "from sklearn.preprocessing import MinMaxScaler\n",
        "import matplotlib.pyplot as plt"
      ],
      "execution_count": 40,
      "outputs": []
    },
    {
      "cell_type": "markdown",
      "metadata": {
        "id": "aW0y5iUwzqUx"
      },
      "source": [
        "#Read the Data"
      ]
    },
    {
      "cell_type": "code",
      "metadata": {
        "id": "rT8ee_DBIsgS",
        "outputId": "f0ba20b6-a94e-4abd-f755-b897e27ba17b",
        "colab": {
          "base_uri": "https://localhost:8080/",
          "height": 419
        }
      },
      "source": [
        "df=pd.read_csv('/content/BTC-USD.csv')\n",
        "df"
      ],
      "execution_count": 5,
      "outputs": [
        {
          "output_type": "execute_result",
          "data": {
            "text/html": [
              "<div>\n",
              "<style scoped>\n",
              "    .dataframe tbody tr th:only-of-type {\n",
              "        vertical-align: middle;\n",
              "    }\n",
              "\n",
              "    .dataframe tbody tr th {\n",
              "        vertical-align: top;\n",
              "    }\n",
              "\n",
              "    .dataframe thead th {\n",
              "        text-align: right;\n",
              "    }\n",
              "</style>\n",
              "<table border=\"1\" class=\"dataframe\">\n",
              "  <thead>\n",
              "    <tr style=\"text-align: right;\">\n",
              "      <th></th>\n",
              "      <th>Date</th>\n",
              "      <th>Open</th>\n",
              "      <th>High</th>\n",
              "      <th>Low</th>\n",
              "      <th>Close</th>\n",
              "      <th>Adj Close</th>\n",
              "      <th>Volume</th>\n",
              "    </tr>\n",
              "  </thead>\n",
              "  <tbody>\n",
              "    <tr>\n",
              "      <th>0</th>\n",
              "      <td>2014-09-17</td>\n",
              "      <td>465.864014</td>\n",
              "      <td>468.174011</td>\n",
              "      <td>452.421997</td>\n",
              "      <td>457.334015</td>\n",
              "      <td>457.334015</td>\n",
              "      <td>21056800</td>\n",
              "    </tr>\n",
              "    <tr>\n",
              "      <th>1</th>\n",
              "      <td>2014-09-18</td>\n",
              "      <td>456.859985</td>\n",
              "      <td>456.859985</td>\n",
              "      <td>413.104004</td>\n",
              "      <td>424.440002</td>\n",
              "      <td>424.440002</td>\n",
              "      <td>34483200</td>\n",
              "    </tr>\n",
              "    <tr>\n",
              "      <th>2</th>\n",
              "      <td>2014-09-19</td>\n",
              "      <td>424.102997</td>\n",
              "      <td>427.834991</td>\n",
              "      <td>384.532013</td>\n",
              "      <td>394.795990</td>\n",
              "      <td>394.795990</td>\n",
              "      <td>37919700</td>\n",
              "    </tr>\n",
              "    <tr>\n",
              "      <th>3</th>\n",
              "      <td>2014-09-20</td>\n",
              "      <td>394.673004</td>\n",
              "      <td>423.295990</td>\n",
              "      <td>389.882996</td>\n",
              "      <td>408.903992</td>\n",
              "      <td>408.903992</td>\n",
              "      <td>36863600</td>\n",
              "    </tr>\n",
              "    <tr>\n",
              "      <th>4</th>\n",
              "      <td>2014-09-21</td>\n",
              "      <td>408.084991</td>\n",
              "      <td>412.425995</td>\n",
              "      <td>393.181000</td>\n",
              "      <td>398.821014</td>\n",
              "      <td>398.821014</td>\n",
              "      <td>26580100</td>\n",
              "    </tr>\n",
              "    <tr>\n",
              "      <th>...</th>\n",
              "      <td>...</td>\n",
              "      <td>...</td>\n",
              "      <td>...</td>\n",
              "      <td>...</td>\n",
              "      <td>...</td>\n",
              "      <td>...</td>\n",
              "      <td>...</td>\n",
              "    </tr>\n",
              "    <tr>\n",
              "      <th>2232</th>\n",
              "      <td>2020-10-27</td>\n",
              "      <td>13075.242188</td>\n",
              "      <td>13759.668945</td>\n",
              "      <td>13060.837891</td>\n",
              "      <td>13654.218750</td>\n",
              "      <td>13654.218750</td>\n",
              "      <td>33749878155</td>\n",
              "    </tr>\n",
              "    <tr>\n",
              "      <th>2233</th>\n",
              "      <td>2020-10-28</td>\n",
              "      <td>13654.214844</td>\n",
              "      <td>13837.695313</td>\n",
              "      <td>12932.250977</td>\n",
              "      <td>13271.285156</td>\n",
              "      <td>13271.285156</td>\n",
              "      <td>35867318894</td>\n",
              "    </tr>\n",
              "    <tr>\n",
              "      <th>2234</th>\n",
              "      <td>2020-10-29</td>\n",
              "      <td>13271.298828</td>\n",
              "      <td>13612.047852</td>\n",
              "      <td>12980.059570</td>\n",
              "      <td>13437.882813</td>\n",
              "      <td>13437.882813</td>\n",
              "      <td>56499499598</td>\n",
              "    </tr>\n",
              "    <tr>\n",
              "      <th>2235</th>\n",
              "      <td>2020-10-30</td>\n",
              "      <td>13437.874023</td>\n",
              "      <td>13651.516602</td>\n",
              "      <td>13136.198242</td>\n",
              "      <td>13546.522461</td>\n",
              "      <td>13546.522461</td>\n",
              "      <td>30581485200</td>\n",
              "    </tr>\n",
              "    <tr>\n",
              "      <th>2236</th>\n",
              "      <td>2020-10-31</td>\n",
              "      <td>13614.615234</td>\n",
              "      <td>14027.156250</td>\n",
              "      <td>13457.793945</td>\n",
              "      <td>13798.152344</td>\n",
              "      <td>13798.152344</td>\n",
              "      <td>33037318144</td>\n",
              "    </tr>\n",
              "  </tbody>\n",
              "</table>\n",
              "<p>2237 rows × 7 columns</p>\n",
              "</div>"
            ],
            "text/plain": [
              "            Date          Open  ...     Adj Close       Volume\n",
              "0     2014-09-17    465.864014  ...    457.334015     21056800\n",
              "1     2014-09-18    456.859985  ...    424.440002     34483200\n",
              "2     2014-09-19    424.102997  ...    394.795990     37919700\n",
              "3     2014-09-20    394.673004  ...    408.903992     36863600\n",
              "4     2014-09-21    408.084991  ...    398.821014     26580100\n",
              "...          ...           ...  ...           ...          ...\n",
              "2232  2020-10-27  13075.242188  ...  13654.218750  33749878155\n",
              "2233  2020-10-28  13654.214844  ...  13271.285156  35867318894\n",
              "2234  2020-10-29  13271.298828  ...  13437.882813  56499499598\n",
              "2235  2020-10-30  13437.874023  ...  13546.522461  30581485200\n",
              "2236  2020-10-31  13614.615234  ...  13798.152344  33037318144\n",
              "\n",
              "[2237 rows x 7 columns]"
            ]
          },
          "metadata": {
            "tags": []
          },
          "execution_count": 5
        }
      ]
    },
    {
      "cell_type": "code",
      "metadata": {
        "id": "hC0TX5dMzu9K",
        "outputId": "6cbf1c25-30bd-4f28-8017-055564621749",
        "colab": {
          "base_uri": "https://localhost:8080/"
        }
      },
      "source": [
        "df.iloc[:,1].describe()"
      ],
      "execution_count": 41,
      "outputs": [
        {
          "output_type": "execute_result",
          "data": {
            "text/plain": [
              "count     2237.000000\n",
              "mean      4535.608790\n",
              "std       4212.560412\n",
              "min        176.897003\n",
              "25%        437.436005\n",
              "50%       3704.216309\n",
              "75%       8162.190918\n",
              "max      19475.800781\n",
              "Name: Open, dtype: float64"
            ]
          },
          "metadata": {
            "tags": []
          },
          "execution_count": 41
        }
      ]
    },
    {
      "cell_type": "markdown",
      "metadata": {
        "id": "g2pYJVgaz2ao"
      },
      "source": [
        "#Split The Data and Visualize it"
      ]
    },
    {
      "cell_type": "code",
      "metadata": {
        "id": "x3MOgLXMIxku"
      },
      "source": [
        "X=(df['Open'].values).reshape(2237,1)\n"
      ],
      "execution_count": 44,
      "outputs": []
    },
    {
      "cell_type": "code",
      "metadata": {
        "id": "sZOvVXqRJz80"
      },
      "source": [
        "X_train=X[:2000,:]"
      ],
      "execution_count": 45,
      "outputs": []
    },
    {
      "cell_type": "code",
      "metadata": {
        "id": "HDYOcIAI0Fzr",
        "outputId": "2072f571-4430-44c1-ccb3-b03077a8a6f1",
        "colab": {
          "base_uri": "https://localhost:8080/",
          "height": 282
        }
      },
      "source": [
        "plt.plot(X_train,c='b')"
      ],
      "execution_count": 46,
      "outputs": [
        {
          "output_type": "execute_result",
          "data": {
            "text/plain": [
              "[<matplotlib.lines.Line2D at 0x7fe94e1a5be0>]"
            ]
          },
          "metadata": {
            "tags": []
          },
          "execution_count": 46
        },
        {
          "output_type": "display_data",
          "data": {
            "image/png": "[encoded data removed]",
            "text/plain": [
              "<Figure size 432x288 with 1 Axes>"
            ]
          },
          "metadata": {
            "tags": [],
            "needs_background": "light"
          }
        }
      ]
    },
    {
      "cell_type": "markdown",
      "metadata": {
        "id": "BDjICfmf0SEM"
      },
      "source": [
        "#Scale the data"
      ]
    },
    {
      "cell_type": "code",
      "metadata": {
        "id": "e1q30ucvJuBu"
      },
      "source": [
        "scaler=MinMaxScaler(feature_range=(0,1))\n"
      ],
      "execution_count": 6,
      "outputs": []
    },
    {
      "cell_type": "code",
      "metadata": {
        "id": "GzKwumSUxaeF"
      },
      "source": [
        "X_train=scaler.fit_transform(X_train)"
      ],
      "execution_count": 9,
      "outputs": []
    },
    {
      "cell_type": "markdown",
      "metadata": {
        "id": "3ejvNTuP0XMt"
      },
      "source": [
        "#Create Sequences"
      ]
    },
    {
      "cell_type": "code",
      "metadata": {
        "id": "B2-Fz-MOI_u-"
      },
      "source": [
        "def dataset(X,timesteps):\n",
        "  x=[]\n",
        "  y=[]\n",
        "  for i in range(0,len(X)-1-timesteps):\n",
        "    x.append(X[i:i+timesteps,0])\n",
        "    y.append(X[i+timesteps,0])\n",
        "  return np.array(x),np.array(y)\n"
      ],
      "execution_count": 10,
      "outputs": []
    },
    {
      "cell_type": "code",
      "metadata": {
        "id": "25hebV71LLaY",
        "outputId": "d2a3962e-1a9c-4321-fc59-84979e1a0856",
        "colab": {
          "base_uri": "https://localhost:8080/"
        }
      },
      "source": [
        "X_tr,Y_tr=dataset(X_train,30)\n",
        "X_tr.shape,Y_tr.shape"
      ],
      "execution_count": 11,
      "outputs": [
        {
          "output_type": "execute_result",
          "data": {
            "text/plain": [
              "((1969, 30), (1969,))"
            ]
          },
          "metadata": {
            "tags": []
          },
          "execution_count": 11
        }
      ]
    },
    {
      "cell_type": "code",
      "metadata": {
        "id": "vSEg0eUaMf8B",
        "outputId": "62aaec1a-7eec-41c0-a6a7-d9a55595e6b3",
        "colab": {
          "base_uri": "https://localhost:8080/"
        }
      },
      "source": [
        "X_tr=X_tr.reshape(X_tr.shape[0],X_tr.shape[1],1)\n",
        "X_tr.shape"
      ],
      "execution_count": 12,
      "outputs": [
        {
          "output_type": "execute_result",
          "data": {
            "text/plain": [
              "(1969, 30, 1)"
            ]
          },
          "metadata": {
            "tags": []
          },
          "execution_count": 12
        }
      ]
    },
    {
      "cell_type": "markdown",
      "metadata": {
        "id": "rzVkmoq40eKJ"
      },
      "source": [
        "#The Model"
      ]
    },
    {
      "cell_type": "code",
      "metadata": {
        "id": "6Y3l0-S1MSJs",
        "outputId": "9d765bbd-e2a0-43f7-f889-4867a7f085b5",
        "colab": {
          "base_uri": "https://localhost:8080/"
        }
      },
      "source": [
        "model=Sequential()\n",
        "model.add(LSTM(30,activation='tanh',input_shape=(X_tr.shape[1],X_tr.shape[2]),return_sequences=True))\n",
        "model.add(LSTM(30,activation='tanh',return_sequences=False))\n",
        "model.add(Dense(1,activation='linear'))\n",
        "print(model.summary())"
      ],
      "execution_count": 13,
      "outputs": [
        {
          "output_type": "stream",
          "text": [
            "Model: \"sequential\"\n",
            "_________________________________________________________________\n",
            "Layer (type)                 Output Shape              Param #   \n",
            "=================================================================\n",
            "lstm (LSTM)                  (None, 30, 30)            3840      \n",
            "_________________________________________________________________\n",
            "lstm_1 (LSTM)                (None, 30)                7320      \n",
            "_________________________________________________________________\n",
            "dense (Dense)                (None, 1)                 31        \n",
            "=================================================================\n",
            "Total params: 11,191\n",
            "Trainable params: 11,191\n",
            "Non-trainable params: 0\n",
            "_________________________________________________________________\n",
            "None\n"
          ],
          "name": "stdout"
        }
      ]
    },
    {
      "cell_type": "code",
      "metadata": {
        "id": "246ZYasDNCmf"
      },
      "source": [
        "model.compile(optimizer='adam',loss='mse')"
      ],
      "execution_count": 14,
      "outputs": []
    },
    {
      "cell_type": "code",
      "metadata": {
        "id": "_4DyL32ENPDE",
        "outputId": "d03bb41a-d21e-4ce9-d640-10c06ab69e4f",
        "colab": {
          "base_uri": "https://localhost:8080/"
        }
      },
      "source": [
        "hist=model.fit(X_tr,Y_tr,epochs=50,batch_size=32)"
      ],
      "execution_count": 18,
      "outputs": [
        {
          "output_type": "stream",
          "text": [
            "Epoch 1/50\n",
            "62/62 [==============================] - 0s 6ms/step - loss: 2.3667e-04\n",
            "Epoch 2/50\n",
            "62/62 [==============================] - 0s 6ms/step - loss: 2.3789e-04\n",
            "Epoch 3/50\n",
            "62/62 [==============================] - 0s 6ms/step - loss: 2.7109e-04\n",
            "Epoch 4/50\n",
            "62/62 [==============================] - 0s 6ms/step - loss: 2.4555e-04\n",
            "Epoch 5/50\n",
            "62/62 [==============================] - 0s 6ms/step - loss: 2.5010e-04\n",
            "Epoch 6/50\n",
            "62/62 [==============================] - 0s 6ms/step - loss: 2.6106e-04\n",
            "Epoch 7/50\n",
            "62/62 [==============================] - 0s 6ms/step - loss: 2.4749e-04\n",
            "Epoch 8/50\n",
            "62/62 [==============================] - 0s 6ms/step - loss: 2.2600e-04\n",
            "Epoch 9/50\n",
            "62/62 [==============================] - 0s 6ms/step - loss: 2.2931e-04\n",
            "Epoch 10/50\n",
            "62/62 [==============================] - 0s 6ms/step - loss: 2.3246e-04\n",
            "Epoch 11/50\n",
            "62/62 [==============================] - 0s 6ms/step - loss: 2.4778e-04\n",
            "Epoch 12/50\n",
            "62/62 [==============================] - 0s 6ms/step - loss: 2.4524e-04\n",
            "Epoch 13/50\n",
            "62/62 [==============================] - 0s 6ms/step - loss: 2.3094e-04\n",
            "Epoch 14/50\n",
            "62/62 [==============================] - 0s 6ms/step - loss: 2.2666e-04\n",
            "Epoch 15/50\n",
            "62/62 [==============================] - 0s 6ms/step - loss: 2.3262e-04\n",
            "Epoch 16/50\n",
            "62/62 [==============================] - 0s 6ms/step - loss: 2.2457e-04\n",
            "Epoch 17/50\n",
            "62/62 [==============================] - 0s 6ms/step - loss: 2.3979e-04\n",
            "Epoch 18/50\n",
            "62/62 [==============================] - 0s 6ms/step - loss: 2.8418e-04\n",
            "Epoch 19/50\n",
            "62/62 [==============================] - 0s 6ms/step - loss: 2.4572e-04\n",
            "Epoch 20/50\n",
            "62/62 [==============================] - 0s 6ms/step - loss: 2.3137e-04\n",
            "Epoch 21/50\n",
            "62/62 [==============================] - 0s 6ms/step - loss: 2.4102e-04\n",
            "Epoch 22/50\n",
            "62/62 [==============================] - 0s 6ms/step - loss: 2.4186e-04\n",
            "Epoch 23/50\n",
            "62/62 [==============================] - 0s 6ms/step - loss: 2.3115e-04\n",
            "Epoch 24/50\n",
            "62/62 [==============================] - 0s 6ms/step - loss: 2.3237e-04\n",
            "Epoch 25/50\n",
            "62/62 [==============================] - 0s 6ms/step - loss: 2.2878e-04\n",
            "Epoch 26/50\n",
            "62/62 [==============================] - 0s 6ms/step - loss: 2.5180e-04\n",
            "Epoch 27/50\n",
            "62/62 [==============================] - 0s 6ms/step - loss: 2.3201e-04\n",
            "Epoch 28/50\n",
            "62/62 [==============================] - 0s 6ms/step - loss: 2.2605e-04\n",
            "Epoch 29/50\n",
            "62/62 [==============================] - 0s 6ms/step - loss: 2.2121e-04\n",
            "Epoch 30/50\n",
            "62/62 [==============================] - 0s 6ms/step - loss: 2.2500e-04\n",
            "Epoch 31/50\n",
            "62/62 [==============================] - 0s 6ms/step - loss: 2.2417e-04\n",
            "Epoch 32/50\n",
            "62/62 [==============================] - 0s 6ms/step - loss: 2.4776e-04\n",
            "Epoch 33/50\n",
            "62/62 [==============================] - 0s 6ms/step - loss: 2.3329e-04\n",
            "Epoch 34/50\n",
            "62/62 [==============================] - 0s 6ms/step - loss: 2.3562e-04\n",
            "Epoch 35/50\n",
            "62/62 [==============================] - 0s 6ms/step - loss: 2.3828e-04\n",
            "Epoch 36/50\n",
            "62/62 [==============================] - 0s 6ms/step - loss: 2.2899e-04\n",
            "Epoch 37/50\n",
            "62/62 [==============================] - 0s 6ms/step - loss: 2.4687e-04\n",
            "Epoch 38/50\n",
            "62/62 [==============================] - 0s 6ms/step - loss: 2.4909e-04\n",
            "Epoch 39/50\n",
            "62/62 [==============================] - 0s 6ms/step - loss: 2.4668e-04\n",
            "Epoch 40/50\n",
            "62/62 [==============================] - 0s 6ms/step - loss: 2.3052e-04\n",
            "Epoch 41/50\n",
            "62/62 [==============================] - 0s 6ms/step - loss: 2.4166e-04\n",
            "Epoch 42/50\n",
            "62/62 [==============================] - 0s 6ms/step - loss: 2.3381e-04\n",
            "Epoch 43/50\n",
            "62/62 [==============================] - 0s 6ms/step - loss: 2.2098e-04\n",
            "Epoch 44/50\n",
            "62/62 [==============================] - 0s 6ms/step - loss: 2.3060e-04\n",
            "Epoch 45/50\n",
            "62/62 [==============================] - 0s 6ms/step - loss: 2.4550e-04\n",
            "Epoch 46/50\n",
            "62/62 [==============================] - 0s 6ms/step - loss: 2.6357e-04\n",
            "Epoch 47/50\n",
            "62/62 [==============================] - 0s 6ms/step - loss: 2.1738e-04\n",
            "Epoch 48/50\n",
            "62/62 [==============================] - 0s 6ms/step - loss: 2.6037e-04\n",
            "Epoch 49/50\n",
            "62/62 [==============================] - 0s 6ms/step - loss: 2.3424e-04\n",
            "Epoch 50/50\n",
            "62/62 [==============================] - 0s 6ms/step - loss: 2.6833e-04\n"
          ],
          "name": "stdout"
        }
      ]
    },
    {
      "cell_type": "code",
      "metadata": {
        "id": "Ii8b9hUW0vYK",
        "outputId": "4326e40b-e5e5-4481-c015-4c8d3b21de98",
        "colab": {
          "base_uri": "https://localhost:8080/",
          "height": 282
        }
      },
      "source": [
        "plt.plot(hist.history['loss'],c='b')"
      ],
      "execution_count": 47,
      "outputs": [
        {
          "output_type": "execute_result",
          "data": {
            "text/plain": [
              "[<matplotlib.lines.Line2D at 0x7fe926cbd5f8>]"
            ]
          },
          "metadata": {
            "tags": []
          },
          "execution_count": 47
        },
        {
          "output_type": "display_data",
          "data": {
            "image/png": "[encoded data removed]",
            "text/plain": [
              "<Figure size 432x288 with 1 Axes>"
            ]
          },
          "metadata": {
            "tags": [],
            "needs_background": "light"
          }
        }
      ]
    },
    {
      "cell_type": "markdown",
      "metadata": {
        "id": "CldLrmLy0h4q"
      },
      "source": [
        "#Check for The Test Data"
      ]
    },
    {
      "cell_type": "code",
      "metadata": {
        "id": "JdvKnrzvx3Dj"
      },
      "source": [
        "X_test=X[2000:,:]\n",
        "scaler1=MinMaxScaler(feature_range=(0,1))"
      ],
      "execution_count": 19,
      "outputs": []
    },
    {
      "cell_type": "code",
      "metadata": {
        "id": "JsoyQfODySm_"
      },
      "source": [
        "X_test=scaler1.fit_transform(X_test)"
      ],
      "execution_count": 20,
      "outputs": []
    },
    {
      "cell_type": "code",
      "metadata": {
        "id": "cgdgYDwtLWnA",
        "outputId": "b09e9557-ee73-4df6-9ae6-086b48f529bc",
        "colab": {
          "base_uri": "https://localhost:8080/"
        }
      },
      "source": [
        "X_te,Y_te=dataset(X_test,30)\n",
        "X_te.shape,Y_te.shape"
      ],
      "execution_count": 21,
      "outputs": [
        {
          "output_type": "execute_result",
          "data": {
            "text/plain": [
              "((206, 30), (206,))"
            ]
          },
          "metadata": {
            "tags": []
          },
          "execution_count": 21
        }
      ]
    },
    {
      "cell_type": "code",
      "metadata": {
        "id": "GbfaTL5SNUk8",
        "outputId": "7e9f4a15-15ab-4a0d-da66-b5c41eb20b86",
        "colab": {
          "base_uri": "https://localhost:8080/"
        }
      },
      "source": [
        "X_te=X_te.reshape(X_te.shape[0],X_te.shape[1],1)\n",
        "X_te.shape"
      ],
      "execution_count": 22,
      "outputs": [
        {
          "output_type": "execute_result",
          "data": {
            "text/plain": [
              "(206, 30, 1)"
            ]
          },
          "metadata": {
            "tags": []
          },
          "execution_count": 22
        }
      ]
    },
    {
      "cell_type": "code",
      "metadata": {
        "id": "K0YvKFv7Oe4V"
      },
      "source": [
        "Y_te=Y_te.reshape(Y_te.shape[0],1)"
      ],
      "execution_count": 23,
      "outputs": []
    },
    {
      "cell_type": "markdown",
      "metadata": {
        "id": "49gGGfW61Dra"
      },
      "source": [
        "#The Prediction"
      ]
    },
    {
      "cell_type": "code",
      "metadata": {
        "id": "v9gJaJBQNd3s"
      },
      "source": [
        "Y_pred=model.predict(X_te)"
      ],
      "execution_count": 24,
      "outputs": []
    },
    {
      "cell_type": "markdown",
      "metadata": {
        "id": "CQYlbK9s1JB5"
      },
      "source": [
        "#Compare predictions with original data"
      ]
    },
    {
      "cell_type": "code",
      "metadata": {
        "id": "gSmPIr4_N4Pl"
      },
      "source": [
        "Y_prediction=scaler1.inverse_transform(Y_pred)\n",
        "Y_te=scaler1.inverse_transform(Y_te)"
      ],
      "execution_count": 25,
      "outputs": []
    },
    {
      "cell_type": "code",
      "metadata": {
        "id": "7AJ7w_Z9OFFk",
        "outputId": "2968f8d2-9779-4a1e-cf0a-4dbbdef93c66",
        "colab": {
          "base_uri": "https://localhost:8080/",
          "height": 269
        }
      },
      "source": [
        "plt.plot(Y_prediction,c='r')\n",
        "plt.plot(Y_te,c='b')\n",
        "plt.show()"
      ],
      "execution_count": 27,
      "outputs": [
        {
          "output_type": "display_data",
          "data": {
            "image/png": "[encoded data removed]",
            "text/plain": [
              "<Figure size 432x288 with 1 Axes>"
            ]
          },
          "metadata": {
            "tags": [],
            "needs_background": "light"
          }
        }
      ]
    },
    {
      "cell_type": "markdown",
      "metadata": {
        "id": "WjzuVB2o1Ui2"
      },
      "source": [
        "#Check for 'n' next days"
      ]
    },
    {
      "cell_type": "code",
      "metadata": {
        "id": "DKiij1YjyeW1"
      },
      "source": [
        "def update(X_check,Y_new,Y_final):\n",
        "  e=float(Y_new[0])\n",
        "  d=X_check\n",
        "  d[0,0]=0\n",
        "  d[0,29]=e\n",
        "  Y_final.append(e)\n",
        "  X_check=d\n",
        "  return X_check,(Y_final)"
      ],
      "execution_count": 32,
      "outputs": []
    },
    {
      "cell_type": "code",
      "metadata": {
        "id": "FDrycZTUyfXW"
      },
      "source": [
        "def predict_next(days):\n",
        "  X_check=np.array(X[2236-29:])\n",
        "  X_check=X_check.reshape(-1,1)\n",
        "  X_check=scaler1.fit_transform(X_check)\n",
        "  X_check=X_check.reshape((1,30,1))\n",
        "  Y_final=[]\n",
        "  for i in range(0,days):\n",
        "    Y_new=model.predict(X_check)\n",
        "    X_check,Y_final=update(X_check,Y_new,Y_final)\n",
        "  return scaler1.inverse_transform(np.array(Y_final).reshape(days,1))"
      ],
      "execution_count": 37,
      "outputs": []
    },
    {
      "cell_type": "code",
      "metadata": {
        "id": "Se7ygCXdyfeY",
        "outputId": "77dc02ff-8ffe-4fe6-bc94-364a7335030f",
        "colab": {
          "base_uri": "https://localhost:8080/"
        }
      },
      "source": [
        "days=int(input(\"Enter The no of days you want to predict for: \"))\n",
        "final_prediction=predict_next(days)"
      ],
      "execution_count": 38,
      "outputs": [
        {
          "output_type": "stream",
          "text": [
            "Enter The no of days you want to predict for: 10\n"
          ],
          "name": "stdout"
        }
      ]
    },
    {
      "cell_type": "code",
      "metadata": {
        "id": "L28cDchVylPi",
        "outputId": "39f44cac-9728-4070-b340-6a1d066782ab",
        "colab": {
          "base_uri": "https://localhost:8080/",
          "height": 284
        }
      },
      "source": [
        "plt.plot(final_prediction,c='b')"
      ],
      "execution_count": 39,
      "outputs": [
        {
          "output_type": "execute_result",
          "data": {
            "text/plain": [
              "[<matplotlib.lines.Line2D at 0x7fe94e459128>]"
            ]
          },
          "metadata": {
            "tags": []
          },
          "execution_count": 39
        },
        {
          "output_type": "display_data",
          "data": {
            "image/png": "[encoded data removed]",
            "text/plain": [
              "<Figure size 432x288 with 1 Axes>"
            ]
          },
          "metadata": {
            "tags": [],
            "needs_background": "light"
          }
        }
      ]
    }
  ]
}